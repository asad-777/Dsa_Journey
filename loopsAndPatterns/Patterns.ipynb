{
 "cells": [
  {
   "cell_type": "code",
   "execution_count": 77,
   "metadata": {},
   "outputs": [
    {
     "name": "stdout",
     "output_type": "stream",
     "text": [
      "\n",
      "*\n",
      "**\n",
      "***\n",
      "****\n"
     ]
    }
   ],
   "source": [
    "n: int = int(input(\"Enter Number of Lines: \"))\n",
    "\n",
    "for i in range(n+1):\n",
    "    for x in range(i):\n",
    "        print(\"*\", end=\"\")\n",
    "    print()\n",
    "\n",
    "# Print a right-angled triangle pattern of increasing '*' in each row"
   ]
  },
  {
   "cell_type": "code",
   "execution_count": 81,
   "metadata": {},
   "outputs": [
    {
     "name": "stdout",
     "output_type": "stream",
     "text": [
      "123\n",
      "456\n",
      "789\n"
     ]
    }
   ],
   "source": [
    "n: int = int(input(\"Enter Number of Lines: \"))\n",
    "z: int = 1\n",
    "for i in range(n):\n",
    "    for x in range(n):\n",
    "        print(z, end=\"\")\n",
    "        z += 1\n",
    "    print()\n",
    "\n",
    "# Print a pattern of consecutive numbers in rows based on user input"
   ]
  },
  {
   "cell_type": "code",
   "execution_count": 82,
   "metadata": {},
   "outputs": [
    {
     "name": "stdout",
     "output_type": "stream",
     "text": [
      "1\n",
      "22\n",
      "333\n",
      "4444\n"
     ]
    }
   ],
   "source": [
    "n: int = int(input(\"Enter Number of Lines: \"))\n",
    "z: int = 1\n",
    "for i in range(n):\n",
    "    for x in range(i+1):\n",
    "        print(z, end=\"\")\n",
    "    print()\n",
    "    z += 1\n",
    "\n",
    "# Print a pattern where the row number is repeated as many times as the row index"
   ]
  },
  {
   "cell_type": "code",
   "execution_count": 83,
   "metadata": {},
   "outputs": [
    {
     "name": "stdout",
     "output_type": "stream",
     "text": [
      "1\n",
      "12\n",
      "123\n",
      "1234\n"
     ]
    }
   ],
   "source": [
    "n: int = int(input(\"Enter Number of Lines: \"))\n",
    "\n",
    "for i in range(n):\n",
    "    for x in range(i+1):\n",
    "        print(x+1, end=\"\")\n",
    "    print()\n",
    "\n",
    "# Print a pattern of increasing consecutive numbers in each row based on the row index"
   ]
  },
  {
   "cell_type": "code",
   "execution_count": 85,
   "metadata": {},
   "outputs": [
    {
     "name": "stdout",
     "output_type": "stream",
     "text": [
      "\n",
      "1\n",
      "21\n",
      "321\n",
      "4321\n"
     ]
    }
   ],
   "source": [
    "n: int = int(input(\"Enter Number of Lines: \"))\n",
    "\n",
    "for i in range(n+1):\n",
    "    for x in range(i, 0, -1):\n",
    "        print(x, end=\"\")\n",
    "    print()\n",
    "\n",
    "# Print a pattern of decreasing consecutive numbers in each row based on the row index"
   ]
  },
  {
   "cell_type": "code",
   "execution_count": 86,
   "metadata": {},
   "outputs": [
    {
     "name": "stdout",
     "output_type": "stream",
     "text": [
      "1\n",
      "23\n",
      "456\n",
      "78910\n",
      "1112131415\n"
     ]
    }
   ],
   "source": [
    "n: int = int(input(\"Enter Number of Lines: \"))\n",
    "z: int = 1\n",
    "\n",
    "for i in range(n+1):\n",
    "    for x in range(i+1):\n",
    "        print(z, end=\"\")\n",
    "        z += 1\n",
    "    print()\n",
    "\n",
    "# Print a pattern of consecutive numbers in each row, where the numbers continue incrementally across rows"
   ]
  },
  {
   "cell_type": "code",
   "execution_count": 87,
   "metadata": {},
   "outputs": [
    {
     "name": "stdout",
     "output_type": "stream",
     "text": [
      "1111\n",
      " 222\n",
      "  33\n",
      "   4\n"
     ]
    }
   ],
   "source": [
    "n: int = int(input(\"Enter Number of Lines: \"))\n",
    "\n",
    "\n",
    "for i in range(n):\n",
    "    print(\" \" * i, end=\"\")\n",
    "    print(str(i + 1) * (n - i))\n",
    "\n",
    "# Print a pattern with decreasing numbers in each row and increasing leading spaces"
   ]
  },
  {
   "cell_type": "code",
   "execution_count": 89,
   "metadata": {},
   "outputs": [
    {
     "name": "stdout",
     "output_type": "stream",
     "text": [
      "   *\n",
      "  ***\n",
      " *****\n",
      "*******\n"
     ]
    }
   ],
   "source": [
    "n: int = int(input(\"Enter Number of Lines: \"))\n",
    "\n",
    "for i in range(n):\n",
    "    print(\" \" * (n - i - 1), end=\"\")\n",
    "    print(\"*\" * (2 * i + 1))\n",
    "\n",
    "# printing a pyramid of stars"
   ]
  },
  {
   "cell_type": "code",
   "execution_count": 90,
   "metadata": {},
   "outputs": [
    {
     "name": "stdout",
     "output_type": "stream",
     "text": [
      "   1\n",
      "  121\n",
      " 12321\n",
      "1234321\n"
     ]
    }
   ],
   "source": [
    "n: int = int(input(\"Enter Number of Lines: \"))\n",
    "\n",
    "for i in range(1, n + 1):\n",
    "    print(\" \" * (n - i), end=\"\")\n",
    "    for j in range(1, i + 1):\n",
    "        print(j, end=\"\")\n",
    "    for j in range(i - 1, 0, -1):\n",
    "        print(j, end=\"\")\n",
    "    print()\n",
    "\n",
    "# printing a pyramid of numbers"
   ]
  },
  {
   "cell_type": "code",
   "execution_count": 98,
   "metadata": {},
   "outputs": [
    {
     "name": "stdout",
     "output_type": "stream",
     "text": [
      "A B C D E F G H I J K L M N O P Q R S T U V W X Y Z "
     ]
    }
   ],
   "source": [
    "for i in range(26):\n",
    "    print(chr(65 + i), end=\" \")\n",
    "\n",
    "# printing alphabets"
   ]
  }
 ],
 "metadata": {
  "kernelspec": {
   "display_name": "Python 3",
   "language": "python",
   "name": "python3"
  },
  "language_info": {
   "codemirror_mode": {
    "name": "ipython",
    "version": 3
   },
   "file_extension": ".py",
   "mimetype": "text/x-python",
   "name": "python",
   "nbconvert_exporter": "python",
   "pygments_lexer": "ipython3",
   "version": "3.12.4"
  }
 },
 "nbformat": 4,
 "nbformat_minor": 2
}
