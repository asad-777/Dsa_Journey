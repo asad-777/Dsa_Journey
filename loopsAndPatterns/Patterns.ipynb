{
 "cells": [
  {
   "cell_type": "code",
   "execution_count": 9,
   "metadata": {},
   "outputs": [
    {
     "name": "stdout",
     "output_type": "stream",
     "text": [
      "\n",
      "*\n",
      "**\n",
      "***\n",
      "****\n",
      "*****\n"
     ]
    }
   ],
   "source": [
    "n: int = int(input(\"Enter Number of Lines: \"))\n",
    "\n",
    "for i in range(n+1):\n",
    "    for x in range(i):\n",
    "        print(\"*\", end=\"\")\n",
    "    print()\n",
    "\n",
    "# A pattern of triangle stairs stars"
   ]
  },
  {
   "cell_type": "code",
   "execution_count": 15,
   "metadata": {},
   "outputs": [
    {
     "name": "stdout",
     "output_type": "stream",
     "text": [
      "123\n",
      "456\n",
      "789\n"
     ]
    }
   ],
   "source": [
    "n: int = int(input(\"Enter Number of Lines: \"))\n",
    "z: int = 1\n",
    "for i in range(n):\n",
    "    for x in range(n):\n",
    "        print(z, end=\"\")\n",
    "        z += 1\n",
    "    print()\n",
    "\n",
    "# A pattern of Square shape continuously increasing numbers"
   ]
  },
  {
   "cell_type": "code",
   "execution_count": 21,
   "metadata": {},
   "outputs": [
    {
     "name": "stdout",
     "output_type": "stream",
     "text": [
      "\n",
      "2 \n",
      "3 3 \n"
     ]
    }
   ],
   "source": [
    "n: int = int(input(\"Enter Number of Lines: \"))\n",
    "z: int = 1\n",
    "for i in range(n):\n",
    "    for x in range(i):\n",
    "        print(z, end=\" \")\n",
    "    print()\n",
    "    z += 1\n",
    "\n",
    "# A pattern printing a triangle of numbers"
   ]
  }
 ],
 "metadata": {
  "kernelspec": {
   "display_name": "Python 3",
   "language": "python",
   "name": "python3"
  },
  "language_info": {
   "codemirror_mode": {
    "name": "ipython",
    "version": 3
   },
   "file_extension": ".py",
   "mimetype": "text/x-python",
   "name": "python",
   "nbconvert_exporter": "python",
   "pygments_lexer": "ipython3",
   "version": "3.12.4"
  }
 },
 "nbformat": 4,
 "nbformat_minor": 2
}
