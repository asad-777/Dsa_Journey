{
 "cells": [
  {
   "cell_type": "code",
   "execution_count": 9,
   "metadata": {},
   "outputs": [
    {
     "name": "stdout",
     "output_type": "stream",
     "text": [
      "\n",
      "*\n",
      "**\n",
      "***\n",
      "****\n",
      "*****\n"
     ]
    }
   ],
   "source": [
    "n: int = int(input(\"Enter Number of Lines: \"))\n",
    "\n",
    "for i in range(n+1):\n",
    "    for x in range(i):\n",
    "        print(\"*\", end=\"\")\n",
    "    print()\n",
    "\n",
    "# Print a right-angled triangle pattern of increasing '*' in each row"
   ]
  },
  {
   "cell_type": "code",
   "execution_count": 15,
   "metadata": {},
   "outputs": [
    {
     "name": "stdout",
     "output_type": "stream",
     "text": [
      "123\n",
      "456\n",
      "789\n"
     ]
    }
   ],
   "source": [
    "n: int = int(input(\"Enter Number of Lines: \"))\n",
    "z: int = 1\n",
    "for i in range(n):\n",
    "    for x in range(n):\n",
    "        print(z, end=\"\")\n",
    "        z += 1\n",
    "    print()\n",
    "\n",
    "# Print a pattern of consecutive numbers in rows based on user input"
   ]
  },
  {
   "cell_type": "code",
   "execution_count": 61,
   "metadata": {},
   "outputs": [
    {
     "name": "stdout",
     "output_type": "stream",
     "text": [
      "1\n",
      "22\n",
      "333\n",
      "4444\n"
     ]
    }
   ],
   "source": [
    "n: int = int(input(\"Enter Number of Lines: \"))\n",
    "z: int = 1\n",
    "for i in range(n):\n",
    "    for x in range(i+1):\n",
    "        print(z, end=\"\")\n",
    "    print()\n",
    "    z += 1\n",
    "\n",
    "# Print a pattern where the row number is repeated as many times as the row index"
   ]
  },
  {
   "cell_type": "code",
   "execution_count": 24,
   "metadata": {},
   "outputs": [
    {
     "name": "stdout",
     "output_type": "stream",
     "text": [
      "1\n",
      "12\n",
      "123\n"
     ]
    }
   ],
   "source": [
    "n: int = int(input(\"Enter Number of Lines: \"))\n",
    "\n",
    "for i in range(n):\n",
    "    for x in range(i+1):\n",
    "        print(x+1, end=\"\")\n",
    "    print()\n",
    "\n",
    "# Print a pattern of increasing consecutive numbers in each row based on the row index"
   ]
  },
  {
   "cell_type": "code",
   "execution_count": 31,
   "metadata": {},
   "outputs": [
    {
     "name": "stdout",
     "output_type": "stream",
     "text": [
      "\n",
      "1\n",
      "21\n",
      "321\n",
      "4321\n"
     ]
    }
   ],
   "source": [
    "n: int = int(input(\"Enter Number of Lines: \"))\n",
    "\n",
    "for i in range(n+1):\n",
    "    for x in range(i, 0, -1):\n",
    "        print(x, end=\"\")\n",
    "    print()\n",
    "\n",
    "# Print a pattern of decreasing consecutive numbers in each row based on the row index"
   ]
  },
  {
   "cell_type": "code",
   "execution_count": 35,
   "metadata": {},
   "outputs": [
    {
     "name": "stdout",
     "output_type": "stream",
     "text": [
      "1\n",
      "23\n",
      "456\n",
      "78910\n"
     ]
    }
   ],
   "source": [
    "n: int = int(input(\"Enter Number of Lines: \"))\n",
    "z: int = 1\n",
    "\n",
    "for i in range(n+1):\n",
    "    for x in range(i+1):\n",
    "        print(z, end=\"\")\n",
    "        z += 1\n",
    "    print()\n",
    "\n",
    "# Print a pattern of consecutive numbers in each row, where the numbers continue incrementally across rows"
   ]
  },
  {
   "cell_type": "code",
   "execution_count": 60,
   "metadata": {},
   "outputs": [
    {
     "name": "stdout",
     "output_type": "stream",
     "text": [
      "11111\n",
      " 2222\n",
      "  333\n",
      "   44\n",
      "    5\n"
     ]
    }
   ],
   "source": [
    "n: int = int(input(\"Enter Number of Lines: \"))\n",
    "\n",
    "\n",
    "for i in range(n):\n",
    "    print(\" \" * i, end=\"\")\n",
    "    print(str(i + 1) * (n - i))\n",
    "\n",
    "# Print a pattern with decreasing numbers in each row and increasing leading spaces"
   ]
  },
  {
   "cell_type": "code",
   "execution_count": 74,
   "metadata": {},
   "outputs": [
    {
     "name": "stdout",
     "output_type": "stream",
     "text": [
      "   *\n",
      "  ***\n",
      " *****\n",
      "*******\n"
     ]
    }
   ],
   "source": [
    "n: int = int(input(\"Enter Number of Lines: \"))\n",
    "\n",
    "for i in range(n):\n",
    "    print(\" \" * (n - i - 1), end=\"\")\n",
    "    print(\"*\" * (2 * i + 1))\n",
    "\n",
    "# printing a pyramid of stars"
   ]
  },
  {
   "cell_type": "code",
   "execution_count": 76,
   "metadata": {},
   "outputs": [
    {
     "name": "stdout",
     "output_type": "stream",
     "text": [
      "  1\n",
      " 121\n",
      "12321\n"
     ]
    }
   ],
   "source": [
    "n: int = int(input(\"Enter Number of Lines: \"))\n",
    "\n",
    "for i in range(1, n + 1):\n",
    "    print(\" \" * (n - i), end=\"\")\n",
    "    for j in range(1, i + 1):\n",
    "        print(j, end=\"\")\n",
    "    for j in range(i - 1, 0, -1):\n",
    "        print(j, end=\"\")\n",
    "    print()\n",
    "\n",
    "# printing a pyramid of numbers"
   ]
  }
 ],
 "metadata": {
  "kernelspec": {
   "display_name": "Python 3",
   "language": "python",
   "name": "python3"
  },
  "language_info": {
   "codemirror_mode": {
    "name": "ipython",
    "version": 3
   },
   "file_extension": ".py",
   "mimetype": "text/x-python",
   "name": "python",
   "nbconvert_exporter": "python",
   "pygments_lexer": "ipython3",
   "version": "3.12.4"
  }
 },
 "nbformat": 4,
 "nbformat_minor": 2
}
